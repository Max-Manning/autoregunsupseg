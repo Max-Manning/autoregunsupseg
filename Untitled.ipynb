{
 "cells": [
  {
   "cell_type": "code",
   "execution_count": 15,
   "metadata": {},
   "outputs": [
    {
     "data": {
      "image/png": "[encoded data removed]",
      "text/plain": [
       "<Figure size 432x288 with 1 Axes>"
      ]
     },
     "metadata": {
      "needs_background": "light"
     },
     "output_type": "display_data"
    }
   ],
   "source": [
    "import numpy as np\n",
    "import matplotlib.pyplot as plt\n",
    "\n",
    "a = np.ones((5,5))\n",
    "\n",
    "a[2, 2:] = 0\n",
    "a[3:,:] = 0\n",
    "\n",
    "plt.figure()\n",
    "\n",
    "# the 8 different masks for masked convs\n",
    "\n",
    "plt.imshow(a)                             # 1\n",
    "# plt.imshow(np.flip(a, 1))                 # 2\n",
    "# plt.imshow(np.rot90(a))                   # 3\n",
    "# plt.imshow(np.flip(np.rot90(a), 0))       # 4\n",
    "# plt.imshow(np.rot90(a, 2))                # 5\n",
    "# plt.imshow(np.flip(np.rot90(a, 2), 1))    # 6\n",
    "# plt.imshow(np.rot90(a, 3))                # 7\n",
    "# plt.imshow(np.flip(np.rot90(a, 3), 1))    # 8\n",
    "\n",
    "plt.show()"
   ]
  },
  {
   "cell_type": "code",
   "execution_count": null,
   "metadata": {},
   "outputs": [],
   "source": []
  }
 ],
 "metadata": {
  "kernelspec": {
   "display_name": "Python 3",
   "language": "python",
   "name": "python3"
  },
  "language_info": {
   "codemirror_mode": {
    "name": "ipython",
    "version": 3
   },
   "file_extension": ".py",
   "mimetype": "text/x-python",
   "name": "python",
   "nbconvert_exporter": "python",
   "pygments_lexer": "ipython3",
   "version": "3.7.8"
  }
 },
 "nbformat": 4,
 "nbformat_minor": 4
}
