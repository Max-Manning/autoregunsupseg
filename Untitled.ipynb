{
 "cells": [
  {
   "cell_type": "code",
   "execution_count": null,
   "metadata": {},
   "outputs": [],
   "source": [
    "\n"
   ]
  },
  {
   "cell_type": "code",
   "execution_count": 2,
   "metadata": {},
   "outputs": [
    {
     "data": {
      "image/png": "[encoded data removed]",
      "text/plain": [
       "<Figure size 432x288 with 1 Axes>"
      ]
     },
     "metadata": {
      "needs_background": "light"
     },
     "output_type": "display_data"
    }
   ],
   "source": [
    "import numpy as np\n",
    "import matplotlib.pyplot as plt\n",
    "from scipy.optimize import linear_sum_assignment as linear_assignment\n",
    "import pickle\n",
    "\n",
    "f = open('./saved/model_020_confusion_matrix.pkl', 'rb')\n",
    "dists = pickle.load(f)\n",
    "f.close()\n",
    "\n",
    "f = open('./saved/model_021_confusion_matrix.pkl', 'rb')\n",
    "dists2 = pickle.load(f)\n",
    "f.close()\n",
    "\n",
    "f = open('./saved/model_022_confusion_matrix.pkl', 'rb')\n",
    "dists3 = pickle.load(f)\n",
    "f.close()\n",
    "\n",
    "f = open('./saved/model_023_confusion_matrix.pkl', 'rb')\n",
    "dists4 = pickle.load(f)\n",
    "f.close()\n",
    "\n",
    "\n",
    "\n",
    "acc = np.zeros((10,))\n",
    "for i,d in enumerate(dists):\n",
    "    ri, ci = linear_assignment(d, maximize=True)\n",
    "    corr = d[ri, ci].sum()\n",
    "    acc[i] = corr/d.sum()\n",
    "    \n",
    "acc2 = np.zeros((10,))\n",
    "for i,d in enumerate(dists2):\n",
    "    ri, ci = linear_assignment(d, maximize=True)\n",
    "    corr = d[ri, ci].sum()\n",
    "    acc2[i] = corr/d.sum()\n",
    "    \n",
    "acc3 = np.zeros((10,))\n",
    "for i,d in enumerate(dists3):\n",
    "    ri, ci = linear_assignment(d, maximize=True)\n",
    "    corr = d[ri, ci].sum()\n",
    "    acc3[i] = corr/d.sum()\n",
    "    \n",
    "acc4 = np.zeros((10,))\n",
    "for i,d in enumerate(dists4):\n",
    "    ri, ci = linear_assignment(d, maximize=True)\n",
    "    corr = d[ri, ci].sum()\n",
    "    acc4[i] = corr/d.sum()\n",
    "    \n",
    "plt.figure()\n",
    "plt.plot(acc*100, 'bo-', linewidth=3)\n",
    "plt.plot(acc2*100, 'ro-', linewidth=3)\n",
    "plt.plot(acc3*100, 'ko-', linewidth=3)\n",
    "plt.plot(acc4*100, 'co-', linewidth=3)\n",
    "plt.grid()\n",
    "plt.ylabel(\"Pixel Accuracy (%)\")\n",
    "plt.xlabel(\"Epoch\")\n",
    "plt.show()\n",
    "    "
   ]
  },
  {
   "cell_type": "code",
   "execution_count": 1,
   "metadata": {},
   "outputs": [],
   "source": [
    "from model.maskedconv import shiftedMaskedConv2d"
   ]
  },
  {
   "cell_type": "code",
   "execution_count": 2,
   "metadata": {},
   "outputs": [
    {
     "name": "stdout",
     "output_type": "stream",
     "text": [
      "tensor([[[[-0.2201,  0.1864,  0.1893],\n",
      "          [ 0.0071,  0.2194, -0.0421],\n",
      "          [-0.1062, -0.0053,  0.1336]],\n",
      "\n",
      "         [[-0.1831, -0.0394, -0.1251],\n",
      "          [-0.2060,  0.1527, -0.1971],\n",
      "          [ 0.0825,  0.0541, -0.1686]]],\n",
      "\n",
      "\n",
      "        [[[-0.1192, -0.0167, -0.1203],\n",
      "          [-0.1849,  0.0762,  0.1676],\n",
      "          [-0.0761, -0.0418, -0.0791]],\n",
      "\n",
      "         [[ 0.1698, -0.2200,  0.0923],\n",
      "          [ 0.1210,  0.1704, -0.0716],\n",
      "          [ 0.0935, -0.0025,  0.2254]]]])\n",
      "------------\n",
      "Parameter containing:\n",
      "tensor([[[[-0.2201,  0.1864,  0.1893],\n",
      "          [ 0.0071,  0.2194, -0.0421],\n",
      "          [-0.1062, -0.0053,  0.1336]],\n",
      "\n",
      "         [[-0.1831, -0.0394, -0.1251],\n",
      "          [-0.2060,  0.1527, -0.1971],\n",
      "          [ 0.0825,  0.0541, -0.1686]]],\n",
      "\n",
      "\n",
      "        [[[-0.1192, -0.0167, -0.1203],\n",
      "          [-0.1849,  0.0762,  0.1676],\n",
      "          [-0.0761, -0.0418, -0.0791]],\n",
      "\n",
      "         [[ 0.1698, -0.2200,  0.0923],\n",
      "          [ 0.1210,  0.1704, -0.0716],\n",
      "          [ 0.0935, -0.0025,  0.2254]]]], requires_grad=True)\n"
     ]
    }
   ],
   "source": [
    "from model.maskedconv import shiftedMaskedConv2d\n",
    "import torch\n",
    "c1 = shiftedMaskedConv2d(2, 2, kernel_size=3, padding=0)\n",
    "g = torch.zeros((1,2,3,3))\n",
    "print(c1.weight)\n",
    "f = c1(g, 1)\n",
    "print(\"------------\")\n",
    "print(c1.weight)"
   ]
  },
  {
   "cell_type": "code",
   "execution_count": 9,
   "metadata": {},
   "outputs": [
    {
     "name": "stdout",
     "output_type": "stream",
     "text": [
      "Parameter containing:\n",
      "tensor([[[[-0.2201,  0.1864,  0.1893],\n",
      "          [ 0.0071,  0.2194, -0.0421],\n",
      "          [-0.1062, -0.0053,  0.1336]],\n",
      "\n",
      "         [[-0.1831, -0.0394, -0.1251],\n",
      "          [-0.2060,  0.1527, -0.1971],\n",
      "          [ 0.0825,  0.0541, -0.1686]]],\n",
      "\n",
      "\n",
      "        [[[-0.1192, -0.0167, -0.1203],\n",
      "          [-0.1849,  0.0762,  0.1676],\n",
      "          [-0.0761, -0.0418, -0.0791]],\n",
      "\n",
      "         [[ 0.1698, -0.2200,  0.0923],\n",
      "          [ 0.1210,  0.1704, -0.0716],\n",
      "          [ 0.0935, -0.0025,  0.2254]]]], requires_grad=True)\n",
      "tensor([[[[0., 1., 1.],\n",
      "          [0., 1., 1.],\n",
      "          [0., 1., 1.]],\n",
      "\n",
      "         [[0., 1., 1.],\n",
      "          [0., 1., 1.],\n",
      "          [0., 1., 1.]]],\n",
      "\n",
      "\n",
      "        [[[0., 1., 1.],\n",
      "          [0., 1., 1.],\n",
      "          [0., 1., 1.]],\n",
      "\n",
      "         [[0., 1., 1.],\n",
      "          [0., 1., 1.],\n",
      "          [0., 1., 1.]]]])\n",
      "Parameter containing:\n",
      "tensor([[[[-0.2201,  0.1864,  0.1893],\n",
      "          [ 0.0071,  0.2194, -0.0421],\n",
      "          [-0.1062, -0.0053,  0.1336]],\n",
      "\n",
      "         [[-0.1831, -0.0394, -0.1251],\n",
      "          [-0.2060,  0.1527, -0.1971],\n",
      "          [ 0.0825,  0.0541, -0.1686]]],\n",
      "\n",
      "\n",
      "        [[[-0.1192, -0.0167, -0.1203],\n",
      "          [-0.1849,  0.0762,  0.1676],\n",
      "          [-0.0761, -0.0418, -0.0791]],\n",
      "\n",
      "         [[ 0.1698, -0.2200,  0.0923],\n",
      "          [ 0.1210,  0.1704, -0.0716],\n",
      "          [ 0.0935, -0.0025,  0.2254]]]], requires_grad=True)\n"
     ]
    }
   ],
   "source": [
    "c = torch.ones_like(c1.weight)\n",
    "c[:,:,:,0] = 0\n",
    "print(c1.weight)\n",
    "print(c)\n",
    "g = (c*c1.weight).sum()\n",
    "g.backward()\n",
    "print(c1.weight)"
   ]
  },
  {
   "cell_type": "code",
   "execution_count": null,
   "metadata": {},
   "outputs": [],
   "source": []
  }
 ],
 "metadata": {
  "kernelspec": {
   "display_name": "Python 3",
   "language": "python",
   "name": "python3"
  },
  "language_info": {
   "codemirror_mode": {
    "name": "ipython",
    "version": 3
   },
   "file_extension": ".py",
   "mimetype": "text/x-python",
   "name": "python",
   "nbconvert_exporter": "python",
   "pygments_lexer": "ipython3",
   "version": "3.7.8"
  }
 },
 "nbformat": 4,
 "nbformat_minor": 4
}
