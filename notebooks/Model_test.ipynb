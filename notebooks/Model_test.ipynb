{
 "cells": [
  {
   "cell_type": "code",
   "execution_count": 1,
   "metadata": {},
   "outputs": [],
   "source": [
    "import os, sys\n",
    "currentdir = os.path.dirname(os.getcwd())\n",
    "sys.path.append(currentdir)\n",
    "\n",
    "import numpy as np\n",
    "import torch \n",
    "\n",
    "from dataloader import Potsdam, PotsdamDataLoader\n",
    "from model import ARSegmentationNet\n",
    "from loss import MI_loss\n",
    "\n",
    "if torch.cuda.is_available():\n",
    "    device = torch.device(\"cuda:0\")\n",
    "else:\n",
    "    device = torch.device(\"cpu\")\n",
    "\n",
    "\n",
    "# get the dataloader\n",
    "path = '/mnt/D2/Data/potsdam/preprocessed/'\n",
    "train_dataset = Potsdam(path, split='unlabelled_train')\n",
    "training_loader = PotsdamDataLoader(train_dataset, batch_size=20)\n",
    "    \n",
    "    \n",
    "# define model, loss, optimzer, learning rate scheduler\n",
    "model = ARSegmentationNet().to(device)\n",
    "criterion = MI_loss\n",
    "optimizer = torch.optim.Adam(model.parameters(), lr = 1e-5)\n",
    "scheduler = torch.optim.lr_scheduler.StepLR(optimizer, step_size=15, gamma=0.5)\n",
    "    \n",
    "ordering = 1\n",
    "    \n",
    "dataiter = iter(training_loader)\n",
    "images = dataiter.next().to(device)"
   ]
  },
  {
   "cell_type": "code",
   "execution_count": 2,
   "metadata": {},
   "outputs": [
    {
     "name": "stderr",
     "output_type": "stream",
     "text": [
      "/home/miamanning/anaconda3/envs/env0/lib/python3.7/site-packages/torch/nn/functional.py:3063: UserWarning: Default upsampling behavior when mode=bilinear is changed to align_corners=False since 0.4.0. Please specify align_corners=True if the old behavior is desired. See the documentation of nn.Upsample for details.\n",
      "  \"See the documentation of nn.Upsample for details.\".format(mode))\n"
     ]
    }
   ],
   "source": [
    "# images.type()\n",
    "a = model(images, 1)"
   ]
  },
  {
   "cell_type": "code",
   "execution_count": 3,
   "metadata": {},
   "outputs": [
    {
     "data": {
      "text/plain": [
       "torch.Size([20, 6, 200, 200])"
      ]
     },
     "execution_count": 3,
     "metadata": {},
     "output_type": "execute_result"
    }
   ],
   "source": [
    "a.shape"
   ]
  },
  {
   "cell_type": "code",
   "execution_count": null,
   "metadata": {},
   "outputs": [],
   "source": []
  }
 ],
 "metadata": {
  "kernelspec": {
   "display_name": "Python 3",
   "language": "python",
   "name": "python3"
  },
  "language_info": {
   "codemirror_mode": {
    "name": "ipython",
    "version": 3
   },
   "file_extension": ".py",
   "mimetype": "text/x-python",
   "name": "python",
   "nbconvert_exporter": "python",
   "pygments_lexer": "ipython3",
   "version": "3.7.8"
  }
 },
 "nbformat": 4,
 "nbformat_minor": 4
}
