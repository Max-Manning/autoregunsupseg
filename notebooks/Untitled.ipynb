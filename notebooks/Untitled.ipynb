{
 "cells": [
  {
   "cell_type": "code",
   "execution_count": 5,
   "metadata": {},
   "outputs": [
    {
     "data": {
      "image/png": "[encoded data removed]",
      "text/plain": [
       "<Figure size 432x288 with 1 Axes>"
      ]
     },
     "metadata": {
      "needs_background": "light"
     },
     "output_type": "display_data"
    }
   ],
   "source": [
    "import numpy as np\n",
    "import matplotlib.pyplot as plt\n",
    "from scipy.signal import convolve2d\n",
    "\n",
    "a = np.ones((3,3))\n",
    "\n",
    "a[1, 1:] = 0\n",
    "a[2:,:] = 0\n",
    "\n",
    "plt.figure()\n",
    "\n",
    "# the 8 different masks for masked convs\n",
    "\n",
    "plt.imshow(a)                             # 1\n",
    "# plt.imshow(np.flip(a, 1))                 # 2\n",
    "# plt.imshow(np.rot90(a))                   # 3\n",
    "# plt.imshow(np.flip(np.rot90(a), 0))       # 4\n",
    "# plt.imshow(np.rot90(a, 2))                # 5\n",
    "# plt.imshow(np.flip(np.rot90(a, 2), 1))    # 6\n",
    "# plt.imshow(np.rot90(a, 3))                # 7\n",
    "# plt.imshow(np.flip(np.rot90(a, 3), 1))    # 8\n",
    "\n",
    "plt.show()"
   ]
  },
  {
   "cell_type": "code",
   "execution_count": 6,
   "metadata": {},
   "outputs": [
    {
     "data": {
      "image/png": "[encoded data removed]",
      "text/plain": [
       "<Figure size 432x288 with 1 Axes>"
      ]
     },
     "metadata": {
      "needs_background": "light"
     },
     "output_type": "display_data"
    }
   ],
   "source": [
    "\n",
    "# a = np.flip(a, 1)               # 2\n",
    "# a = np.rot90(a)                 # 3\n",
    "# a = np.flip(np.rot90(a), 0)     # 4\n",
    "# a = np.rot90(a, 2)              # 5\n",
    "# a = np.flip(np.rot90(a, 2), 1)  # 6\n",
    "# a = np.rot90(a, 3)              # 7\n",
    "# a = np.flip(np.rot90(a, 3), 1)  # 8\n",
    "\n",
    "b = convolve2d(a,a)\n",
    "c = convolve2d(b,a)\n",
    "d = convolve2d(c,a)\n",
    "e = convolve2d(d,a)\n",
    "\n",
    "plt.figure()\n",
    "plt.imshow(e > 0)\n",
    "plt.show()"
   ]
  },
  {
   "cell_type": "code",
   "execution_count": 3,
   "metadata": {},
   "outputs": [],
   "source": [
    "import tqdm\n"
   ]
  },
  {
   "cell_type": "code",
   "execution_count": 21,
   "metadata": {},
   "outputs": [
    {
     "data": {
      "image/png": "[encoded data removed]",
      "text/plain": [
       "<Figure size 432x288 with 1 Axes>"
      ]
     },
     "metadata": {
      "needs_background": "light"
     },
     "output_type": "display_data"
    }
   ],
   "source": [
    "import numpy as np\n",
    "import matplotlib.pyplot as plt\n",
    "\n",
    "def create_attention_mask(H, ordering):\n",
    "    \n",
    "    a = np.arange(H*H).reshape((H, H))\n",
    "    \n",
    "    if ordering == 2:\n",
    "        a = np.flip(a, 1)               # 2\n",
    "    elif ordering==3:\n",
    "        a = np.rot90(a)                 # 3\n",
    "    elif ordering==4:\n",
    "        a = np.flip(np.rot90(a), 0)     # 4\n",
    "    elif ordering==5:\n",
    "        a = np.rot90(a, 2)              # 5\n",
    "    elif ordering==6:\n",
    "        a = np.flip(np.rot90(a, 2), 1)  # 6\n",
    "    elif ordering==7:\n",
    "        a = np.rot90(a, 3)              # 7\n",
    "    elif ordering==8:\n",
    "        a = np.flip(np.rot90(a, 3), 1)  # 8\n",
    "    \n",
    "    ordering = a.flatten()\n",
    "    \n",
    "    mask = np.zeros((H*H, H*H))\n",
    "    for i in range(H*H):\n",
    "        iid = ordering[:i+1]\n",
    "        mask[i,iid] = 1\n",
    "    \n",
    "    return mask\n",
    "\n",
    "a = create_mask(3,8)\n",
    "\n",
    "plt.figure()\n",
    "plt.imshow(a)\n",
    "plt.show()"
   ]
  },
  {
   "cell_type": "code",
   "execution_count": 24,
   "metadata": {},
   "outputs": [
    {
     "name": "stdout",
     "output_type": "stream",
     "text": [
      "[1, 2, 3, 4, 5, 6, 7, 8]\n"
     ]
    }
   ],
   "source": [
    "print(list(range(1,9)))"
   ]
  },
  {
   "cell_type": "code",
   "execution_count": null,
   "metadata": {},
   "outputs": [],
   "source": []
  }
 ],
 "metadata": {
  "kernelspec": {
   "display_name": "Python 3",
   "language": "python",
   "name": "python3"
  },
  "language_info": {
   "codemirror_mode": {
    "name": "ipython",
    "version": 3
   },
   "file_extension": ".py",
   "mimetype": "text/x-python",
   "name": "python",
   "nbconvert_exporter": "python",
   "pygments_lexer": "ipython3",
   "version": "3.7.8"
  }
 },
 "nbformat": 4,
 "nbformat_minor": 4
}
